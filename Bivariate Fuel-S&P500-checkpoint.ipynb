{
 "cells": [
  {
   "cell_type": "code",
   "execution_count": 1,
   "id": "4064ece7",
   "metadata": {},
   "outputs": [],
   "source": [
    "import pandas as pd\n",
    "import matplotlib.pyplot as plt\n",
    "df = pd.read_csv(\"AAA.csv\") #importing the file"
   ]
  },
  {
   "cell_type": "code",
   "execution_count": 2,
   "id": "e6eec722",
   "metadata": {},
   "outputs": [
    {
     "data": {
      "text/html": [
       "<div>\n",
       "<style scoped>\n",
       "    .dataframe tbody tr th:only-of-type {\n",
       "        vertical-align: middle;\n",
       "    }\n",
       "\n",
       "    .dataframe tbody tr th {\n",
       "        vertical-align: top;\n",
       "    }\n",
       "\n",
       "    .dataframe thead th {\n",
       "        text-align: right;\n",
       "    }\n",
       "</style>\n",
       "<table border=\"1\" class=\"dataframe\">\n",
       "  <thead>\n",
       "    <tr style=\"text-align: right;\">\n",
       "      <th></th>\n",
       "      <th>Year</th>\n",
       "      <th>Average Percentage Change</th>\n",
       "      <th>Unnamed: 2</th>\n",
       "      <th>Year 2</th>\n",
       "      <th>S&amp;P500</th>\n",
       "    </tr>\n",
       "  </thead>\n",
       "  <tbody>\n",
       "    <tr>\n",
       "      <th>count</th>\n",
       "      <td>40.000000</td>\n",
       "      <td>40.000000</td>\n",
       "      <td>0.0</td>\n",
       "      <td>40.000000</td>\n",
       "      <td>40.000000</td>\n",
       "    </tr>\n",
       "    <tr>\n",
       "      <th>mean</th>\n",
       "      <td>1997.500000</td>\n",
       "      <td>4.407478</td>\n",
       "      <td>NaN</td>\n",
       "      <td>1997.500000</td>\n",
       "      <td>6.187731</td>\n",
       "    </tr>\n",
       "    <tr>\n",
       "      <th>std</th>\n",
       "      <td>11.690452</td>\n",
       "      <td>14.649308</td>\n",
       "      <td>NaN</td>\n",
       "      <td>11.690452</td>\n",
       "      <td>14.890188</td>\n",
       "    </tr>\n",
       "    <tr>\n",
       "      <th>min</th>\n",
       "      <td>1978.000000</td>\n",
       "      <td>-27.631943</td>\n",
       "      <td>NaN</td>\n",
       "      <td>1978.000000</td>\n",
       "      <td>-40.728721</td>\n",
       "    </tr>\n",
       "    <tr>\n",
       "      <th>25%</th>\n",
       "      <td>1987.750000</td>\n",
       "      <td>-2.420287</td>\n",
       "      <td>NaN</td>\n",
       "      <td>1987.750000</td>\n",
       "      <td>-2.987923</td>\n",
       "    </tr>\n",
       "    <tr>\n",
       "      <th>50%</th>\n",
       "      <td>1997.500000</td>\n",
       "      <td>1.674042</td>\n",
       "      <td>NaN</td>\n",
       "      <td>1997.500000</td>\n",
       "      <td>9.210016</td>\n",
       "    </tr>\n",
       "    <tr>\n",
       "      <th>75%</th>\n",
       "      <td>2007.250000</td>\n",
       "      <td>12.940867</td>\n",
       "      <td>NaN</td>\n",
       "      <td>2007.250000</td>\n",
       "      <td>16.947781</td>\n",
       "    </tr>\n",
       "    <tr>\n",
       "      <th>max</th>\n",
       "      <td>2017.000000</td>\n",
       "      <td>38.516068</td>\n",
       "      <td>NaN</td>\n",
       "      <td>2017.000000</td>\n",
       "      <td>31.671647</td>\n",
       "    </tr>\n",
       "  </tbody>\n",
       "</table>\n",
       "</div>"
      ],
      "text/plain": [
       "              Year  Average Percentage Change  Unnamed: 2       Year 2  \\\n",
       "count    40.000000                  40.000000         0.0    40.000000   \n",
       "mean   1997.500000                   4.407478         NaN  1997.500000   \n",
       "std      11.690452                  14.649308         NaN    11.690452   \n",
       "min    1978.000000                 -27.631943         NaN  1978.000000   \n",
       "25%    1987.750000                  -2.420287         NaN  1987.750000   \n",
       "50%    1997.500000                   1.674042         NaN  1997.500000   \n",
       "75%    2007.250000                  12.940867         NaN  2007.250000   \n",
       "max    2017.000000                  38.516068         NaN  2017.000000   \n",
       "\n",
       "          S&P500  \n",
       "count  40.000000  \n",
       "mean    6.187731  \n",
       "std    14.890188  \n",
       "min   -40.728721  \n",
       "25%    -2.987923  \n",
       "50%     9.210016  \n",
       "75%    16.947781  \n",
       "max    31.671647  "
      ]
     },
     "execution_count": 2,
     "metadata": {},
     "output_type": "execute_result"
    }
   ],
   "source": [
    "df.describe() #portraying the data"
   ]
  },
  {
   "cell_type": "code",
   "execution_count": 3,
   "id": "04e55d71",
   "metadata": {},
   "outputs": [],
   "source": [
    "import numpy as np\n",
    "import statsmodels.api as sm #downloading the needed libraries"
   ]
  },
  {
   "cell_type": "code",
   "execution_count": 4,
   "id": "ccd19c02",
   "metadata": {},
   "outputs": [
    {
     "name": "stdout",
     "output_type": "stream",
     "text": [
      "-0.24862670753516192\n",
      "7.283547944914698\n"
     ]
    }
   ],
   "source": [
    "x_ary = df[\"Average Percentage Change\"] #printing the initial values for m and b\n",
    "x_with_cnst = sm.add_constant(x_ary)\n",
    "model = sm.OLS(df[\"S&P500\"], x_with_cnst)\n",
    "results = model.fit()\n",
    "b, m = results.params\n",
    "print(m)\n",
    "print(b)"
   ]
  },
  {
   "cell_type": "code",
   "execution_count": 5,
   "id": "72dcff4a",
   "metadata": {},
   "outputs": [
    {
     "name": "stdout",
     "output_type": "stream",
     "text": [
      "                            OLS Regression Results                            \n",
      "==============================================================================\n",
      "Dep. Variable:                 S&P500   R-squared:                       0.060\n",
      "Model:                            OLS   Adj. R-squared:                  0.035\n",
      "Method:                 Least Squares   F-statistic:                     2.418\n",
      "Date:                Wed, 13 Jul 2022   Prob (F-statistic):              0.128\n",
      "Time:                        13:34:34   Log-Likelihood:                -163.05\n",
      "No. Observations:                  40   AIC:                             330.1\n",
      "Df Residuals:                      38   BIC:                             333.5\n",
      "Df Model:                           1                                         \n",
      "Covariance Type:            nonrobust                                         \n",
      "=============================================================================================\n",
      "                                coef    std err          t      P>|t|      [0.025      0.975]\n",
      "---------------------------------------------------------------------------------------------\n",
      "const                         7.2835      2.418      3.013      0.005       2.389      12.178\n",
      "Average Percentage Change    -0.2486      0.160     -1.555      0.128      -0.572       0.075\n",
      "==============================================================================\n",
      "Omnibus:                        7.786   Durbin-Watson:                   1.905\n",
      "Prob(Omnibus):                  0.020   Jarque-Bera (JB):                6.531\n",
      "Skew:                          -0.901   Prob(JB):                       0.0382\n",
      "Kurtosis:                       3.820   Cond. No.                         15.8\n",
      "==============================================================================\n",
      "\n",
      "Notes:\n",
      "[1] Standard Errors assume that the covariance matrix of the errors is correctly specified.\n"
     ]
    }
   ],
   "source": [
    "print(results.summary()) #summary of the results, shows data such as R squared value and Covariance type"
   ]
  },
  {
   "cell_type": "code",
   "execution_count": 10,
   "id": "7d589f07",
   "metadata": {},
   "outputs": [
    {
     "data": {
      "text/plain": [
       "Text(0.5, 0, 'S&P 500 percentage Change')"
      ]
     },
     "execution_count": 10,
     "metadata": {},
     "output_type": "execute_result"
    },
    {
     "data": {
      "image/png": "[encoded data removed]",
      "text/plain": [
       "<Figure size 720x360 with 1 Axes>"
      ]
     },
     "metadata": {
      "needs_background": "light"
     },
     "output_type": "display_data"
    }
   ],
   "source": [
    "#plots scatter graph with line of best fit\n",
    "plt.figure(figsize = (10,5)) #dimensions of the graoh\n",
    "plt.scatter(df[\"Average Percentage Change\"], df[\"S&P500\"])\n",
    "plt.plot(x_ary, m*x_ary+b, color = \"orange\") #choosing color of the line of best fit and plotting it\n",
    "#labels\n",
    "plt.title(\"Fuel Oil Prices and S&P 500 performance correlation\")\n",
    "plt.ylabel(\"Fuel Oil Percetage Change\")\n",
    "plt.xlabel(\"S&P 500 percentage Change\")"
   ]
  },
  {
   "cell_type": "code",
   "execution_count": null,
   "id": "df53856b",
   "metadata": {},
   "outputs": [],
   "source": []
  }
 ],
 "metadata": {
  "kernelspec": {
   "display_name": "Python 3 (ipykernel)",
   "language": "python",
   "name": "python3"
  },
  "language_info": {
   "codemirror_mode": {
    "name": "ipython",
    "version": 3
   },
   "file_extension": ".py",
   "mimetype": "text/x-python",
   "name": "python",
   "nbconvert_exporter": "python",
   "pygments_lexer": "ipython3",
   "version": "3.9.12"
  }
 },
 "nbformat": 4,
 "nbformat_minor": 5
}
